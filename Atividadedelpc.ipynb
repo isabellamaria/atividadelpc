{
  "nbformat": 4,
  "nbformat_minor": 0,
  "metadata": {
    "colab": {
      "name": "Atividadedelpc.ipynb",
      "provenance": [],
      "authorship_tag": "ABX9TyN61dC+eIZ3AUQkvqcWmeGg"
    },
    "kernelspec": {
      "name": "python3",
      "display_name": "Python 3"
    }
  },
  "cells": [
    {
      "cell_type": "code",
      "metadata": {
        "id": "yqST1t5JQLI4",
        "colab_type": "code",
        "colab": {}
      },
      "source": [
        "#Escola Tecnica Porto Digital\n",
        "#Professor: Cloves \n",
        "#Operadores com Texto e Recursividade Lógica em Python\n",
        "#Aluna: Isabella Maria\n",
        "\n",
        "nome = input ('Digite seu nome completo: ')\n",
        "print(f'Seu nome completo é: {nome}')"
      ],
      "execution_count": null,
      "outputs": []
    },
    {
      "cell_type": "code",
      "metadata": {
        "id": "6qClyt_5Spdm",
        "colab_type": "code",
        "colab": {}
      },
      "source": [
        "def contagemRegressiva(n=10):\n",
        "  if n == 0:\n",
        "    print('Feliz ano novo!')\n",
        "  else: \n",
        "    print(n)\n",
        "\n",
        "    contagemRegressiva(n-1)\n"
      ],
      "execution_count": 19,
      "outputs": []
    }
  ]
}